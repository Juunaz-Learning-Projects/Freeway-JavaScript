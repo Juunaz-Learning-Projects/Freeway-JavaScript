{
 "cells": [
  {
   "attachments": {},
   "cell_type": "markdown",
   "metadata": {},
   "source": [
    "# Lógica de Programação: laços e listas com JavaScript\n",
    "## 🔸Questão 1 (JavaScript)\n",
    "Uma pessoa, após incluir a imagem da estrada como background, do carro e do personagem do jogo, adicionou o seguinte código para mover o personagem, quando as setas para cima e para baixo forem pressionadas:\n",
    "```javascript\n",
    "function movimentaAtor(){\n",
    "  if (keyIsDown(UP_ARROW)){\n",
    "    yAtor = yAtor + 3;\n",
    "  }\n",
    "  if (keyIsDown(DOWN_ARROW)){\n",
    "    yAtor = yAtor - 3;\n",
    "  }\n",
    "}\n",
    "```\n",
    "Analisando o código acima, podemos afirmar que:\n",
    "\n",
    "**Respostas:**\n",
    "- Quando a tecla seta para cima for pressionada, o personagem irá para baixo.\n",
    "- Quando a tecla seta para baixo for pressionada, o personagem irá para cima."
   ]
  },
  {
   "attachments": {},
   "cell_type": "markdown",
   "metadata": {},
   "source": [
    "## 🔸Questão 2 (JavaScript)\n",
    "Para fazer com que os carros voltem a aparecer na tela e passem a rodovia mais uma vez, uma pessoa desenvolveu o seguinte código:\n",
    "```javascript\n",
    "function voltaPosicaoInicialDoCarro(){\n",
    "  if (xCarro < 50){\n",
    "    xCarro = 600\n",
    "  }\n",
    "  if (xCarro2 < 50){\n",
    "    xCarro2 = 600\n",
    "  }\n",
    "  if (xCarro3 < 50){\n",
    "    xCarro3 = 600\n",
    "  }\n",
    "}\n",
    "```\n",
    "Porém algo não saiu como a pessoa queria. Com base nessas informações podemos afirmar que:\n",
    "\n",
    "**Resposta:** Os carros desaparecerão subitamente antes de ultrapassarem a extremidade esquerda da tela.\n",
    "> Orientação da Alura: Com base no código acima, se o valor da variável xCarro for menor que 50, ele volta para a posição inicial. O valor correto seria -50."
   ]
  },
  {
   "attachments": {},
   "cell_type": "markdown",
   "metadata": {},
   "source": [
    "## 🔸Questão 3 (JavaScript)\n",
    "Para evitar uma grande quantidade de variáveis para cada carro, criamos listas para armazenar essas informações. Sabendo que trata-se de uma estrutura de dados ordenados, observe a seguinte lista:\n",
    "```javascript\n",
    "let palavras = [\"Dia\", \"programar\", \"javascript\", \"de\"]\n",
    "```\n",
    "Com base no exemplo acima, analise as afirmações abaixo e marque as verdadeiras:\n",
    "\n",
    "**Respostas:**\n",
    "- Para descobrir a quantidade de elementos de uma lista, podemos usar a palavra length.\n",
    "- Podemos recuperar os valores dentro de uma lista através de índice.\n",
    "- Podemos formar uma frase com o seguinte código: console.log(palavras[0],palavras[3],palavras[1],palavras[2])"
   ]
  },
  {
   "attachments": {},
   "cell_type": "markdown",
   "metadata": {},
   "source": [
    "## 🔸Questão 4 (JavaScript)\n",
    "Uma pessoa resolveu incluir o placar no seu jogo e criou o seguinte código:\n",
    "```javascript\n",
    "function marcaPonto(){\n",
    "  if (yAtor < 15){\n",
    "    meusPontos += 1;\n",
    "    voltaAtorParaPosicaoInicial();\n",
    "  }\n",
    "}\n",
    "```\n",
    "Ao executar o jogo e chegar do outro lado, a pessoa não marcou nenhum ponto. Não encontrando o erro, decidiu compartilhar seu arquivo sketch.js, conforme ilustra o código abaixo:\n",
    "```javascript\n",
    "function setup() {\n",
    "  createCanvas(500, 400);\n",
    "}\n",
    "\n",
    "function draw() {\n",
    "  background(imagemDaEstrada);\n",
    "  mostraAtor();\n",
    "  mostraCarro();\n",
    "  movimentaCarro();\n",
    "  movimentaAtor();\n",
    "  voltaPosicaoInicialDoCarro();\n",
    "  verificaColisao();\n",
    "  incluiPontos();\n",
    "}\n",
    "```\n",
    "Analisando os códigos acima, por que a pessoa não está conseguindo marcar pontos quando consegue atravessar a rua e chegar do outro lado?\n",
    "\n",
    "**Resposta:** A pessoa não está chamando a função marcaPonto() em draw(), assim ela não será executada.\n",
    "> Orientação da Alura: Para conseguir pontuar, é necessário executar função marcaPonto(), dentro da função draw()."
   ]
  },
  {
   "attachments": {},
   "cell_type": "markdown",
   "metadata": {},
   "source": [
    "## 🔸Questão 5 (JavaScript)\n",
    "Para melhorar a leitura e compreensão do código, alteramos o nomes de algumas funções como colidiu para voltaAtorPosicaoInicial() e criamos a função pontosMaiorQueZero(), conforme as imagens abaixo:\n",
    "```javascript\n",
    "function voltaAtorParaPosicaoInicial(){\n",
    "  yAtor = 366;\n",
    "}\n",
    "\n",
    "function pontosMaiorQueZero(){\n",
    "  return meusPontos > 0;\n",
    "}\n",
    "```\n",
    "Analisando as funções acima, podemos afirmar que:\n",
    "\n",
    "**Respostas:** \n",
    "- Para criar uma função que retorna um valor em Javascript, usamos a palavra return, seguida pelo valor que queremos retornar.\n",
    "- Uma função em Javascript pode ter um retorno ou não.\n",
    "- O retorno da função pontosMaiorQueZero() será true ou false."
   ]
  }
 ],
 "metadata": {
  "language_info": {
   "name": "python"
  },
  "orig_nbformat": 4
 },
 "nbformat": 4,
 "nbformat_minor": 2
}
